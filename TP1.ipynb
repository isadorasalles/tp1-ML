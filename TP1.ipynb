{
 "cells": [
  {
   "cell_type": "markdown",
   "metadata": {},
   "source": [
    "# Trabalho Prático 1 :  Classificação de Exoplanetas \n",
    "\n",
    "Nome: Isadora Alves de Salles <br>\n",
    "Matrícula: _2017014553_"
   ]
  },
  {
   "cell_type": "code",
   "execution_count": 1,
   "metadata": {},
   "outputs": [],
   "source": [
    "import pandas as pd\n",
    "import numpy as np\n",
    "import matplotlib.pyplot as plt\n",
    "\n",
    "from IPython.display import display\n",
    "\n",
    "from sklearn.model_selection import KFold\n",
    "\n",
    "from sklearn.svm import SVC\n",
    "from sklearn import metrics\n",
    "from sklearn import ensemble\n",
    "from sklearn import neighbors\n",
    "from sklearn import feature_selection\n",
    "\n",
    "from sklearn.naive_bayes import GaussianNB\n",
    "from sklearn.tree import DecisionTreeClassifier\n",
    "\n",
    "\n",
    "plt.style.use('seaborn-colorblind')\n",
    "plt.ion()"
   ]
  },
  {
   "cell_type": "code",
   "execution_count": 2,
   "metadata": {},
   "outputs": [],
   "source": [
    "# Caminho para o dataset\n",
    "INPUT_FILEPATH = \"koi_data.csv\"\n",
    "\n",
    "# Nome da coluna do label\n",
    "TARGET = \"koi_disposition\"\n",
    "\n",
    "# Numero de features a serem usadas\n",
    "N_FEATURES = 38\n",
    "\n",
    "# Nome da coluna a ser removida, pois não é uma feature\n",
    "NAME = \"kepoi_name\"\n",
    "\n",
    "# Número de folds no K-fold cross-validation\n",
    "N_FOLDS = 5"
   ]
  },
  {
   "cell_type": "code",
   "execution_count": 3,
   "metadata": {
    "scrolled": false
   },
   "outputs": [
    {
     "name": "stdout",
     "output_type": "stream",
     "text": [
      "Numero de linhas: 5202\n",
      "Numero de colunas: 42\n",
      "Dados faltando: 0\n"
     ]
    },
    {
     "data": {
      "text/html": [
       "<div>\n",
       "<style scoped>\n",
       "    .dataframe tbody tr th:only-of-type {\n",
       "        vertical-align: middle;\n",
       "    }\n",
       "\n",
       "    .dataframe tbody tr th {\n",
       "        vertical-align: top;\n",
       "    }\n",
       "\n",
       "    .dataframe thead th {\n",
       "        text-align: right;\n",
       "    }\n",
       "</style>\n",
       "<table border=\"1\" class=\"dataframe\">\n",
       "  <thead>\n",
       "    <tr style=\"text-align: right;\">\n",
       "      <th></th>\n",
       "      <th>koi_disposition</th>\n",
       "      <th>koi_period</th>\n",
       "      <th>koi_impact</th>\n",
       "      <th>koi_duration</th>\n",
       "      <th>koi_depth</th>\n",
       "      <th>koi_ror</th>\n",
       "      <th>koi_srho</th>\n",
       "      <th>koi_prad</th>\n",
       "      <th>koi_sma</th>\n",
       "      <th>koi_incl</th>\n",
       "      <th>...</th>\n",
       "      <th>koi_fwm_srao</th>\n",
       "      <th>koi_fwm_sdeco</th>\n",
       "      <th>koi_fwm_prao</th>\n",
       "      <th>koi_fwm_pdeco</th>\n",
       "      <th>koi_dicco_mra</th>\n",
       "      <th>koi_dicco_mdec</th>\n",
       "      <th>koi_dicco_msky</th>\n",
       "      <th>koi_dikco_mra</th>\n",
       "      <th>koi_dikco_mdec</th>\n",
       "      <th>koi_dikco_msky</th>\n",
       "    </tr>\n",
       "  </thead>\n",
       "  <tbody>\n",
       "    <tr>\n",
       "      <th>0</th>\n",
       "      <td>CONFIRMED</td>\n",
       "      <td>9.48804</td>\n",
       "      <td>0.146</td>\n",
       "      <td>2.95750</td>\n",
       "      <td>615.8</td>\n",
       "      <td>0.02234</td>\n",
       "      <td>3.20796</td>\n",
       "      <td>2.26</td>\n",
       "      <td>0.0853</td>\n",
       "      <td>89.66</td>\n",
       "      <td>...</td>\n",
       "      <td>0.430</td>\n",
       "      <td>0.940</td>\n",
       "      <td>-0.00020</td>\n",
       "      <td>-0.00055</td>\n",
       "      <td>-0.010</td>\n",
       "      <td>0.200</td>\n",
       "      <td>0.200</td>\n",
       "      <td>0.080</td>\n",
       "      <td>0.310</td>\n",
       "      <td>0.320</td>\n",
       "    </tr>\n",
       "    <tr>\n",
       "      <th>1</th>\n",
       "      <td>CONFIRMED</td>\n",
       "      <td>54.41838</td>\n",
       "      <td>0.586</td>\n",
       "      <td>4.50700</td>\n",
       "      <td>874.8</td>\n",
       "      <td>0.02795</td>\n",
       "      <td>3.02368</td>\n",
       "      <td>2.83</td>\n",
       "      <td>0.2734</td>\n",
       "      <td>89.57</td>\n",
       "      <td>...</td>\n",
       "      <td>-0.630</td>\n",
       "      <td>1.230</td>\n",
       "      <td>0.00066</td>\n",
       "      <td>-0.00105</td>\n",
       "      <td>0.390</td>\n",
       "      <td>0.000</td>\n",
       "      <td>0.390</td>\n",
       "      <td>0.490</td>\n",
       "      <td>0.120</td>\n",
       "      <td>0.500</td>\n",
       "    </tr>\n",
       "    <tr>\n",
       "      <th>2</th>\n",
       "      <td>FALSE POSITIVE</td>\n",
       "      <td>1.73695</td>\n",
       "      <td>1.276</td>\n",
       "      <td>2.40641</td>\n",
       "      <td>8079.2</td>\n",
       "      <td>0.38739</td>\n",
       "      <td>0.22080</td>\n",
       "      <td>33.46</td>\n",
       "      <td>0.0267</td>\n",
       "      <td>67.09</td>\n",
       "      <td>...</td>\n",
       "      <td>-0.111</td>\n",
       "      <td>0.002</td>\n",
       "      <td>0.00302</td>\n",
       "      <td>-0.00142</td>\n",
       "      <td>-0.249</td>\n",
       "      <td>0.147</td>\n",
       "      <td>0.289</td>\n",
       "      <td>-0.257</td>\n",
       "      <td>0.099</td>\n",
       "      <td>0.276</td>\n",
       "    </tr>\n",
       "    <tr>\n",
       "      <th>3</th>\n",
       "      <td>CONFIRMED</td>\n",
       "      <td>2.52559</td>\n",
       "      <td>0.701</td>\n",
       "      <td>1.65450</td>\n",
       "      <td>603.3</td>\n",
       "      <td>0.02406</td>\n",
       "      <td>1.98635</td>\n",
       "      <td>2.75</td>\n",
       "      <td>0.0374</td>\n",
       "      <td>85.41</td>\n",
       "      <td>...</td>\n",
       "      <td>-0.010</td>\n",
       "      <td>0.230</td>\n",
       "      <td>0.00008</td>\n",
       "      <td>-0.00007</td>\n",
       "      <td>0.030</td>\n",
       "      <td>-0.090</td>\n",
       "      <td>0.100</td>\n",
       "      <td>0.070</td>\n",
       "      <td>0.020</td>\n",
       "      <td>0.070</td>\n",
       "    </tr>\n",
       "    <tr>\n",
       "      <th>4</th>\n",
       "      <td>FALSE POSITIVE</td>\n",
       "      <td>7.36179</td>\n",
       "      <td>1.169</td>\n",
       "      <td>5.02200</td>\n",
       "      <td>233.7</td>\n",
       "      <td>0.18339</td>\n",
       "      <td>0.00485</td>\n",
       "      <td>39.21</td>\n",
       "      <td>0.0820</td>\n",
       "      <td>60.92</td>\n",
       "      <td>...</td>\n",
       "      <td>-13.450</td>\n",
       "      <td>24.090</td>\n",
       "      <td>0.00303</td>\n",
       "      <td>-0.00555</td>\n",
       "      <td>-4.506</td>\n",
       "      <td>7.710</td>\n",
       "      <td>8.930</td>\n",
       "      <td>-4.537</td>\n",
       "      <td>7.713</td>\n",
       "      <td>8.948</td>\n",
       "    </tr>\n",
       "  </tbody>\n",
       "</table>\n",
       "<p>5 rows × 42 columns</p>\n",
       "</div>"
      ],
      "text/plain": [
       "  koi_disposition  koi_period  koi_impact  koi_duration  koi_depth  koi_ror  \\\n",
       "0       CONFIRMED     9.48804       0.146       2.95750      615.8  0.02234   \n",
       "1       CONFIRMED    54.41838       0.586       4.50700      874.8  0.02795   \n",
       "2  FALSE POSITIVE     1.73695       1.276       2.40641     8079.2  0.38739   \n",
       "3       CONFIRMED     2.52559       0.701       1.65450      603.3  0.02406   \n",
       "4  FALSE POSITIVE     7.36179       1.169       5.02200      233.7  0.18339   \n",
       "\n",
       "   koi_srho  koi_prad  koi_sma  koi_incl  ...  koi_fwm_srao  koi_fwm_sdeco  \\\n",
       "0   3.20796      2.26   0.0853     89.66  ...         0.430          0.940   \n",
       "1   3.02368      2.83   0.2734     89.57  ...        -0.630          1.230   \n",
       "2   0.22080     33.46   0.0267     67.09  ...        -0.111          0.002   \n",
       "3   1.98635      2.75   0.0374     85.41  ...        -0.010          0.230   \n",
       "4   0.00485     39.21   0.0820     60.92  ...       -13.450         24.090   \n",
       "\n",
       "   koi_fwm_prao  koi_fwm_pdeco  koi_dicco_mra  koi_dicco_mdec  koi_dicco_msky  \\\n",
       "0      -0.00020       -0.00055         -0.010           0.200           0.200   \n",
       "1       0.00066       -0.00105          0.390           0.000           0.390   \n",
       "2       0.00302       -0.00142         -0.249           0.147           0.289   \n",
       "3       0.00008       -0.00007          0.030          -0.090           0.100   \n",
       "4       0.00303       -0.00555         -4.506           7.710           8.930   \n",
       "\n",
       "   koi_dikco_mra  koi_dikco_mdec  koi_dikco_msky  \n",
       "0          0.080           0.310           0.320  \n",
       "1          0.490           0.120           0.500  \n",
       "2         -0.257           0.099           0.276  \n",
       "3          0.070           0.020           0.070  \n",
       "4         -4.537           7.713           8.948  \n",
       "\n",
       "[5 rows x 42 columns]"
      ]
     },
     "metadata": {},
     "output_type": "display_data"
    },
    {
     "name": "stdout",
     "output_type": "stream",
     "text": [
      "Target: koi_disposition\n",
      "Features:\n",
      "  koi_period\n",
      "  koi_impact\n",
      "  koi_duration\n",
      "  koi_depth\n",
      "  koi_ror\n",
      "  koi_srho\n",
      "  koi_prad\n",
      "  koi_sma\n",
      "  koi_incl\n",
      "  koi_teq\n",
      "  koi_insol\n",
      "  koi_dor\n",
      "  koi_max_sngle_ev\n",
      "  koi_max_mult_ev\n",
      "  koi_model_snr\n",
      "  koi_steff\n",
      "  koi_slogg\n",
      "  koi_smet\n",
      "  koi_srad\n",
      "  koi_smass\n",
      "  koi_kepmag\n",
      "  koi_gmag\n",
      "  koi_rmag\n",
      "  koi_imag\n",
      "  koi_zmag\n",
      "  koi_jmag\n",
      "  koi_hmag\n",
      "  koi_kmag\n",
      "  koi_fwm_stat_sig\n",
      "  koi_fwm_sra\n",
      "  koi_fwm_sdec\n",
      "  koi_fwm_srao\n",
      "  koi_fwm_sdeco\n",
      "  koi_fwm_prao\n",
      "  koi_fwm_pdeco\n",
      "  koi_dicco_mra\n",
      "  koi_dicco_mdec\n",
      "  koi_dicco_msky\n",
      "  koi_dikco_mra\n",
      "  koi_dikco_mdec\n",
      "  koi_dikco_msky\n"
     ]
    }
   ],
   "source": [
    "df = pd.read_csv(INPUT_FILEPATH)\n",
    "# Remove colunas que nao serao usadas\n",
    "df = df.drop([NAME], axis=1)\n",
    "\n",
    "# Imprime algumas informacoes basicas sobre os dados\n",
    "print(\"Numero de linhas: {}\".format(df.shape[0]))\n",
    "print(\"Numero de colunas: {}\".format(df.shape[1]))\n",
    "print(\"Dados faltando: {}\".format(df.isnull().sum().sum()))\n",
    "\n",
    "display(df.head())\n",
    "\n",
    "# Cria uma lista com as features\n",
    "features = list(df.columns)\n",
    "features.remove(TARGET)\n",
    "\n",
    "print(\"Target: {}\".format(TARGET))\n",
    "print(\"Features:\")\n",
    "print(\"\\n\".join([\"  \" + x for x in features]))"
   ]
  },
  {
   "cell_type": "markdown",
   "metadata": {},
   "source": [
    "# Pré-processamento"
   ]
  },
  {
   "cell_type": "markdown",
   "metadata": {},
   "source": [
    "## Target\n",
    "\n",
    "Criação de labels binários para a target, sendo 0 para os falso positivos e 1 para os confirmados."
   ]
  },
  {
   "cell_type": "code",
   "execution_count": 4,
   "metadata": {
    "scrolled": false
   },
   "outputs": [
    {
     "data": {
      "text/html": [
       "<div>\n",
       "<style scoped>\n",
       "    .dataframe tbody tr th:only-of-type {\n",
       "        vertical-align: middle;\n",
       "    }\n",
       "\n",
       "    .dataframe tbody tr th {\n",
       "        vertical-align: top;\n",
       "    }\n",
       "\n",
       "    .dataframe thead th {\n",
       "        text-align: right;\n",
       "    }\n",
       "</style>\n",
       "<table border=\"1\" class=\"dataframe\">\n",
       "  <thead>\n",
       "    <tr style=\"text-align: right;\">\n",
       "      <th></th>\n",
       "      <th>FALSE POSITIVE</th>\n",
       "      <th>CONFIRMED</th>\n",
       "    </tr>\n",
       "  </thead>\n",
       "  <tbody>\n",
       "    <tr>\n",
       "      <th>koi_disposition (%)</th>\n",
       "      <td>59.55</td>\n",
       "      <td>40.45</td>\n",
       "    </tr>\n",
       "  </tbody>\n",
       "</table>\n",
       "</div>"
      ],
      "text/plain": [
       "                     FALSE POSITIVE  CONFIRMED\n",
       "koi_disposition (%)           59.55      40.45"
      ]
     },
     "metadata": {},
     "output_type": "display_data"
    },
    {
     "name": "stdout",
     "output_type": "stream",
     "text": [
      "Resultado:\n"
     ]
    },
    {
     "data": {
      "text/html": [
       "<div>\n",
       "<style scoped>\n",
       "    .dataframe tbody tr th:only-of-type {\n",
       "        vertical-align: middle;\n",
       "    }\n",
       "\n",
       "    .dataframe tbody tr th {\n",
       "        vertical-align: top;\n",
       "    }\n",
       "\n",
       "    .dataframe thead th {\n",
       "        text-align: right;\n",
       "    }\n",
       "</style>\n",
       "<table border=\"1\" class=\"dataframe\">\n",
       "  <thead>\n",
       "    <tr style=\"text-align: right;\">\n",
       "      <th></th>\n",
       "      <th>koi_disposition</th>\n",
       "    </tr>\n",
       "  </thead>\n",
       "  <tbody>\n",
       "    <tr>\n",
       "      <th>294</th>\n",
       "      <td>1</td>\n",
       "    </tr>\n",
       "    <tr>\n",
       "      <th>4968</th>\n",
       "      <td>0</td>\n",
       "    </tr>\n",
       "    <tr>\n",
       "      <th>3762</th>\n",
       "      <td>0</td>\n",
       "    </tr>\n",
       "    <tr>\n",
       "      <th>2945</th>\n",
       "      <td>0</td>\n",
       "    </tr>\n",
       "    <tr>\n",
       "      <th>2580</th>\n",
       "      <td>1</td>\n",
       "    </tr>\n",
       "    <tr>\n",
       "      <th>3754</th>\n",
       "      <td>0</td>\n",
       "    </tr>\n",
       "    <tr>\n",
       "      <th>539</th>\n",
       "      <td>1</td>\n",
       "    </tr>\n",
       "    <tr>\n",
       "      <th>771</th>\n",
       "      <td>1</td>\n",
       "    </tr>\n",
       "    <tr>\n",
       "      <th>3450</th>\n",
       "      <td>0</td>\n",
       "    </tr>\n",
       "    <tr>\n",
       "      <th>709</th>\n",
       "      <td>0</td>\n",
       "    </tr>\n",
       "  </tbody>\n",
       "</table>\n",
       "</div>"
      ],
      "text/plain": [
       "      koi_disposition\n",
       "294                 1\n",
       "4968                0\n",
       "3762                0\n",
       "2945                0\n",
       "2580                1\n",
       "3754                0\n",
       "539                 1\n",
       "771                 1\n",
       "3450                0\n",
       "709                 0"
      ]
     },
     "metadata": {},
     "output_type": "display_data"
    }
   ],
   "source": [
    "# Imprime a porcentagem de false positive e confirmed\n",
    "display((df[TARGET].value_counts()/len(df)*100).round(2).to_frame(TARGET +\" (%)\").T)\n",
    "\n",
    "# Criação de labels binários\n",
    "df[TARGET] = (df[TARGET] == \"CONFIRMED\").astype(int)\n",
    "\n",
    "print(\"Resultado:\")\n",
    "display(df[[TARGET]].sample(10))\n"
   ]
  },
  {
   "cell_type": "markdown",
   "metadata": {},
   "source": [
    "## Normalização\n",
    "\n",
    "Transforma as features para que sua distribuição seja uma Normal(0,1)."
   ]
  },
  {
   "cell_type": "code",
   "execution_count": 5,
   "metadata": {},
   "outputs": [],
   "source": [
    "df[features] = df[features] - df[features].mean()\n",
    "df[features] = df[features] / df[features].std()"
   ]
  },
  {
   "cell_type": "markdown",
   "metadata": {},
   "source": [
    "## Seleção de Features\n",
    "\n",
    "Através do uso da função SelectKBest, que utiliza Analysis of Variance (ANOVA) para selecionar n features. O número de features foi testado e percebi que com a seleção de 38 features (variável N_FEATURES que está no início deste notebook) temos um resultado melhor. "
   ]
  },
  {
   "cell_type": "code",
   "execution_count": 6,
   "metadata": {},
   "outputs": [],
   "source": [
    "skb = feature_selection.SelectKBest(feature_selection.f_classif, N_FEATURES)\n",
    "skb = skb.fit(df[features], df[TARGET])"
   ]
  },
  {
   "cell_type": "markdown",
   "metadata": {},
   "source": [
    "## Separação para treino e validação\n",
    "\n",
    "Cria um objeto com os parametros do KFold e assegura que as k particoes tenham a mesma proporção de dados das duas classes de y. Os valores são usados para validação apenas uma vez, ou seja, em cada k fold de validação teremos elementos distindos. "
   ]
  },
  {
   "cell_type": "code",
   "execution_count": 7,
   "metadata": {},
   "outputs": [
    {
     "name": "stdout",
     "output_type": "stream",
     "text": [
      "TRAIN: [1041 1042 1043 ... 5199 5200 5201] VAL: [   0    1    2 ... 1038 1039 1040]\n",
      "TRAIN: [   0    1    2 ... 5199 5200 5201] VAL: [1041 1042 1043 ... 2079 2080 2081]\n",
      "TRAIN: [   0    1    2 ... 5199 5200 5201] VAL: [2082 2083 2084 ... 3119 3120 3121]\n",
      "TRAIN: [   0    1    2 ... 5199 5200 5201] VAL: [3122 3123 3124 ... 4159 4160 4161]\n",
      "TRAIN: [   0    1    2 ... 4159 4160 4161] VAL: [4162 4163 4164 ... 5199 5200 5201]\n"
     ]
    }
   ],
   "source": [
    "X = skb.transform(df[features]) # Seleciona apenas as colunas das features que selecionamos na célula anterior\n",
    "y = df[TARGET].values  \n",
    "\n",
    "\n",
    "kf = KFold(n_splits = N_FOLDS, random_state = 1, shuffle = False)\n",
    "\n",
    "for train_index, val_index in kf.split(X, y):\n",
    "    print(\"TRAIN:\", train_index, \"VAL:\", val_index)\n",
    "    X_train, X_test = X[train_index], X[val_index]\n",
    "    y_train, y_test = y[train_index], y[val_index]\n"
   ]
  },
  {
   "cell_type": "markdown",
   "metadata": {},
   "source": [
    "# Classificação\n",
    "\n",
    "Nesta etapa há a definição de cada modelo, seguida do experimento do mesmo variando os hiperparâmetros necessários. Para cada experimento realizado foi explicado o objetivo do experimento, o significado do hiperparâmentro variado."
   ]
  },
  {
   "cell_type": "markdown",
   "metadata": {},
   "source": [
    "### Definição das variáveis globais e de funções a serem chamadas nos experimentos dos modelos"
   ]
  },
  {
   "cell_type": "code",
   "execution_count": 8,
   "metadata": {},
   "outputs": [],
   "source": [
    "bestModelsTrainAcc = []\n",
    "bestModelsValAcc = []\n",
    "bestModelsRecall = []\n",
    "bestModelsPrecision = []\n",
    "bestModelsF1Score = []\n",
    "bestModelsPred = []\n",
    "models = [\"Naive Bayes\", \"Decision tree\", \"SVM\", \"k-NN\", \"Random Forest\", \"Gradient Tree Boosting\"]"
   ]
  },
  {
   "cell_type": "markdown",
   "metadata": {},
   "source": [
    "A função abaixo foi utilizada para armazenas as características do melhor modelo encontrado em cada experimento. O melhor modelo é dado pela melhor acurácia, dado que não tenha ocorrido overfitting. Salvamos então a sua acurácia, a propabilidade de predição da classe 1 e as métricas de precisão, revocação e F1. "
   ]
  },
  {
   "cell_type": "code",
   "execution_count": 9,
   "metadata": {},
   "outputs": [],
   "source": [
    "def bestModel(trainAcc_model, valAcc_model, recall_model, f1_score_model, precision_model, predictions):\n",
    "    bestModelsTrainAcc.append(trainAcc_model)\n",
    "    bestModelsValAcc.append(valAcc_model)\n",
    "    bestModelsPrecision.append(precision_model)\n",
    "    bestModelsRecall.append(recall_model)\n",
    "    bestModelsF1Score.append(f1_score_model)\n",
    "    bestModelsPred.append(predictions)"
   ]
  },
  {
   "cell_type": "markdown",
   "metadata": {},
   "source": [
    "A função abaixo é utilizada para plotar a curva de acurácia de treino e validação pela variação do hiperparâmetro:"
   ]
  },
  {
   "cell_type": "code",
   "execution_count": 10,
   "metadata": {},
   "outputs": [],
   "source": [
    "def plot_curva(x, y1, y2, x_label, y_label):\n",
    "    plt.figure(figsize=(8, 5))\n",
    "    plt.plot(x, y1, label= \"Training\")\n",
    "    plt.plot(x, y2, label= \"Validation\")\n",
    "    # distinção para plotar gráfico da decision tree no ponto em que temos altura ilimitada\n",
    "    if x_label == \"max_depth\":\n",
    "        trainAcc, valAcc ,_,_,_,_= decision_tree(None) \n",
    "        plt.plot([20], [trainAcc], 'ro',  ms=15, label = 'No depth limit training(y-axis only)')\n",
    "        plt.plot([20], [valAcc], 'bo', ms=15, label = 'No depth limit 5-fold validation(y-axis only)')\n",
    "    \n",
    "    plt.xlabel(x_label)\n",
    "    plt.ylabel(y_label)\n",
    "    plt.legend()\n",
    "    plt.show()\n",
    "    "
   ]
  },
  {
   "cell_type": "markdown",
   "metadata": {},
   "source": [
    "## Naive Bayes\n"
   ]
  },
  {
   "cell_type": "code",
   "execution_count": 11,
   "metadata": {},
   "outputs": [],
   "source": [
    "# definição do modelo\n",
    "def naive_bayes():\n",
    "    train_score = []\n",
    "    val_score = []\n",
    "    y_probab = []\n",
    "    f1_score = []\n",
    "    recall_score = []\n",
    "    precision_score = []\n",
    "\n",
    "    for train, val in kf.split(X, y): # separa partições para validação e o resto para treino em KFolds\n",
    "        \n",
    "        classifier = GaussianNB() # cria o objeto do modelo\n",
    "        classifier = classifier.fit(X[train], y[train]) # treina o modelo com os dados do fold\n",
    "        \n",
    "        # armazena a acurácia de treino e validação para cada fold\n",
    "        train_score.append(classifier.score(X[train], y[train])) # calcula acurácia para o conjunto de treino\n",
    "        val_score.append(classifier.score(X[val], y[val])) # calcula acurácia para o conjunto de validação\n",
    "        \n",
    "        y_pred = classifier.predict(X[val]) # armazena as predições no conjunto de validação\n",
    "        y_proba = classifier.predict_proba(X[val]) \n",
    "        y_probab.extend(y_proba[:,1])\n",
    "        \n",
    "        # calculo das métricas Recall, Precision e F1 score de acordo com as predições no modelo\n",
    "        f1_score.append(metrics.f1_score(y[val], y_pred))\n",
    "        recall_score.append(metrics.recall_score(y[val], y_pred))\n",
    "        precision_score.append(metrics.precision_score(y[val], y_pred))\n",
    "        \n",
    "    # calculo da média de cada métrica \n",
    "    trainAcc = np.mean(train_score)\n",
    "    valAcc = np.mean(val_score)\n",
    "    recall = np.mean(recall_score)\n",
    "    f1 = np.mean(f1_score)\n",
    "    precision = np.mean(precision_score)\n",
    "    \n",
    "    print(\"Acuracia de treino: {:.3}\".format(trainAcc))\n",
    "    print(\"Acuracia de validação: {:.3}\".format(valAcc))\n",
    "    print(\"Recall: {:.3}\".format(recall))\n",
    "    print(\"F1 score: {:.3}\".format(f1))\n",
    "    print(\"Precision: {:.3}\".format(precision))\n",
    "    \n",
    "    \n",
    "    return trainAcc, valAcc, recall, f1, precision, y_probab\n",
    "    "
   ]
  },
  {
   "cell_type": "markdown",
   "metadata": {},
   "source": [
    "O Naive Bayes assume que as features são indepentes e precisa de menos dados de treino, por isso é um ótimo baseline para o trabalho. \n",
    "\n",
    "Para o Naive Bayes como temos apenas um experimento para servir de baseline, sem a variação de nenhum hiperparâmetro, nas posição 0 dos nossos vetores que armazenam os melhores resultados de cada modelo teremos os resultados abaixo, que são os únicos para este modelo."
   ]
  },
  {
   "cell_type": "code",
   "execution_count": 12,
   "metadata": {
    "scrolled": false
   },
   "outputs": [
    {
     "name": "stdout",
     "output_type": "stream",
     "text": [
      "Acuracia de treino: 0.924\n",
      "Acuracia de validação: 0.923\n",
      "Recall: 0.863\n",
      "F1 score: 0.719\n",
      "Precision: 0.681\n"
     ]
    }
   ],
   "source": [
    "trainAcc, valAcc, recall, f1, precision, predictions = naive_bayes()\n",
    "bestModel(trainAcc, valAcc, recall, f1, precision, predictions)"
   ]
  },
  {
   "cell_type": "markdown",
   "metadata": {},
   "source": [
    "## Decision Tree"
   ]
  },
  {
   "cell_type": "code",
   "execution_count": 13,
   "metadata": {},
   "outputs": [],
   "source": [
    "def decision_tree(H):\n",
    "    train_score = []\n",
    "    val_score = []\n",
    "    y_probab = []\n",
    "    f1_score = []\n",
    "    recall_score = []\n",
    "    precision_score = []\n",
    "        \n",
    "    for train, val in kf.split(X, y):\n",
    "           \n",
    "        classifier = DecisionTreeClassifier(max_depth= H)\n",
    "        classifier = classifier.fit(X[train], y[train])\n",
    "\n",
    "        train_score.append(classifier.score(X[train], y[train]))\n",
    "        val_score.append(classifier.score(X[val], y[val]))\n",
    "\n",
    "        y_pred = classifier.predict(X[val])\n",
    "        y_proba = (classifier.predict_proba(X[val]))\n",
    "        y_probab.extend(y_proba[:,1])\n",
    "        f1_score.append(metrics.f1_score(y[val], y_pred))\n",
    "        recall_score.append(metrics.recall_score(y[val], y_pred))\n",
    "        precision_score.append(metrics.precision_score(y[val], y_pred))\n",
    "\n",
    "    trainAcc = np.mean(train_score)\n",
    "    valAcc = np.mean(val_score)\n",
    "    recall = np.mean(recall_score)\n",
    "    f1 = np.mean(f1_score)\n",
    "    precision = np.mean(precision_score)\n",
    "    \n",
    "    return trainAcc, valAcc, recall, f1, precision, y_probab\n"
   ]
  },
  {
   "cell_type": "code",
   "execution_count": 14,
   "metadata": {},
   "outputs": [
    {
     "data": {
      "image/png": "[encoded data removed]",
      "text/plain": [
       "<Figure size 576x360 with 1 Axes>"
      ]
     },
     "metadata": {
      "needs_background": "light"
     },
     "output_type": "display_data"
    }
   ],
   "source": [
    "acc_modelTrain = []\n",
    "acc_modelVal = []\n",
    "max_depth = list(range(1,21,2)) #Valores usados para variar a altura da árvore \n",
    "for i in max_depth:\n",
    "    trainAcc, valAcc ,_,_,_,_ = decision_tree(i)    \n",
    "    acc_modelTrain.append(trainAcc)\n",
    "    acc_modelVal.append(valAcc)\n",
    "plot_curva(max_depth, acc_modelTrain, acc_modelVal, \"max_depth\", \"accuracy\")"
   ]
  },
  {
   "cell_type": "markdown",
   "metadata": {},
   "source": [
    "Para treinar este modelo a altura/profundidade máxima da árvore de decisão foi variada de 1 a 21 (2 a 2), além de contar com o uso de \"None\" que implica em permitir altura máxima ilimitada. O hiperparâmentro variado (\"max_depth\") limita a profundidade da árvore, uma vez atingido o limite, splits não serão mais feitos. Se a altura é None, os nodes são expandidos até todas as folhas puras ou até que todas as folhas tenham menos que min_samples_split amostras. \n",
    "\n",
    "Como pode ser observado no gráfico, até a altura limite igual a 5 temos um ganho significativo na acurácia de validação. Após esse ponto ainda existe um aumento na acurácia de validação, porém a custo de um distanciamento grande da curva de erro empírico (acurácia no treino). Isso indica que a partir deste ponto temos overfitting, isso normalmente gera perda de geralização do modelo, ou seja, pode ser que o dado tenha sido decorado, o que não é de interesse, assim a profundidade limite para o melhor modelo é 5.\n",
    "\n",
    "Abaixo as métricas para o melhor modelo serão salvas e há o print das acurácias de treino e validação para o modelo escolhido:"
   ]
  },
  {
   "cell_type": "code",
   "execution_count": 15,
   "metadata": {
    "scrolled": false
   },
   "outputs": [
    {
     "name": "stdout",
     "output_type": "stream",
     "text": [
      "Acuracia de treino do melhor modelo: 0.966\n",
      "Acuracia de validação do melhor modelo: 0.942\n"
     ]
    }
   ],
   "source": [
    "trainAcc, valAcc, recall, f1, precision, predictions = decision_tree(5)\n",
    "bestModel(trainAcc, valAcc, recall, f1, precision, predictions)\n",
    "print(\"Acuracia de treino do melhor modelo: {:.3}\".format(trainAcc))\n",
    "print(\"Acuracia de validação do melhor modelo: {:.3}\".format(valAcc))"
   ]
  },
  {
   "cell_type": "markdown",
   "metadata": {},
   "source": [
    "## SVM"
   ]
  },
  {
   "cell_type": "code",
   "execution_count": 16,
   "metadata": {},
   "outputs": [],
   "source": [
    "def svm(kernel):\n",
    "    train_score = []\n",
    "    val_score = []\n",
    "    y_probab = []\n",
    "    f1_score = []\n",
    "    recall_score = []\n",
    "    precision_score = []\n",
    "        \n",
    "    for train, val in kf.split(X, y):\n",
    "            \n",
    "        classifier = SVC(kernel= kernel, gamma=\"auto\", probability= True)\n",
    "        classifier = classifier.fit(X[train], y[train])\n",
    "\n",
    "        train_score.append(classifier.score(X[train], y[train]))\n",
    "        val_score.append(classifier.score(X[val], y[val]))\n",
    "\n",
    "        y_pred = classifier.predict(X[val])\n",
    "        y_proba = (classifier.predict_proba(X[val]))\n",
    "        y_probab.extend(y_proba[:,1])\n",
    "        f1_score.append(metrics.f1_score(y[val], y_pred))\n",
    "        recall_score.append(metrics.recall_score(y[val], y_pred))\n",
    "        precision_score.append(metrics.precision_score(y[val], y_pred))\n",
    "\n",
    "    trainAcc = np.mean(train_score)\n",
    "    valAcc = np.mean(val_score)\n",
    "    recall = np.mean(recall_score)\n",
    "    f1 = np.mean(f1_score)\n",
    "    precision = np.mean(precision_score)\n",
    "               \n",
    "    return trainAcc, valAcc, recall, f1, precision, y_probab"
   ]
  },
  {
   "cell_type": "code",
   "execution_count": 17,
   "metadata": {
    "scrolled": false
   },
   "outputs": [
    {
     "data": {
      "text/html": [
       "<div>\n",
       "<style scoped>\n",
       "    .dataframe tbody tr th:only-of-type {\n",
       "        vertical-align: middle;\n",
       "    }\n",
       "\n",
       "    .dataframe tbody tr th {\n",
       "        vertical-align: top;\n",
       "    }\n",
       "\n",
       "    .dataframe thead th {\n",
       "        text-align: right;\n",
       "    }\n",
       "</style>\n",
       "<table border=\"1\" class=\"dataframe\">\n",
       "  <thead>\n",
       "    <tr style=\"text-align: right;\">\n",
       "      <th></th>\n",
       "      <th>Acuracia de Treino</th>\n",
       "      <th>Acuracia de Validacao</th>\n",
       "      <th>Recall</th>\n",
       "      <th>F1 Score</th>\n",
       "      <th>Precision</th>\n",
       "    </tr>\n",
       "  </thead>\n",
       "  <tbody>\n",
       "    <tr>\n",
       "      <th>linear</th>\n",
       "      <td>0.955306</td>\n",
       "      <td>0.940406</td>\n",
       "      <td>0.946716</td>\n",
       "      <td>0.746809</td>\n",
       "      <td>0.734573</td>\n",
       "    </tr>\n",
       "    <tr>\n",
       "      <th>sigmoid</th>\n",
       "      <td>0.828526</td>\n",
       "      <td>0.803553</td>\n",
       "      <td>0.675031</td>\n",
       "      <td>0.591123</td>\n",
       "      <td>0.616556</td>\n",
       "    </tr>\n",
       "    <tr>\n",
       "      <th>poly</th>\n",
       "      <td>0.870483</td>\n",
       "      <td>0.776618</td>\n",
       "      <td>0.876721</td>\n",
       "      <td>0.615506</td>\n",
       "      <td>0.615181</td>\n",
       "    </tr>\n",
       "    <tr>\n",
       "      <th>rbf</th>\n",
       "      <td>0.944445</td>\n",
       "      <td>0.926181</td>\n",
       "      <td>0.842322</td>\n",
       "      <td>0.721868</td>\n",
       "      <td>0.700651</td>\n",
       "    </tr>\n",
       "  </tbody>\n",
       "</table>\n",
       "</div>"
      ],
      "text/plain": [
       "         Acuracia de Treino  Acuracia de Validacao    Recall  F1 Score  \\\n",
       "linear             0.955306               0.940406  0.946716  0.746809   \n",
       "sigmoid            0.828526               0.803553  0.675031  0.591123   \n",
       "poly               0.870483               0.776618  0.876721  0.615506   \n",
       "rbf                0.944445               0.926181  0.842322  0.721868   \n",
       "\n",
       "         Precision  \n",
       "linear    0.734573  \n",
       "sigmoid   0.616556  \n",
       "poly      0.615181  \n",
       "rbf       0.700651  "
      ]
     },
     "metadata": {},
     "output_type": "display_data"
    }
   ],
   "source": [
    "acc_modelTrain = []\n",
    "acc_modelVal = []\n",
    "recall_model = []\n",
    "f1_score_model = []\n",
    "precision_model = []\n",
    "kernels= [\"linear\", \"sigmoid\", \"poly\", \"rbf\"]    #Kernels a serem variados\n",
    "for i in kernels:\n",
    "    trainAcc, valAcc, recall, f1, precision, _ = svm(i)    \n",
    "    acc_modelTrain.append(trainAcc)\n",
    "    acc_modelVal.append(valAcc)\n",
    "    recall_model.append(recall)\n",
    "    f1_score_model.append(f1)\n",
    "    precision_model.append(precision)\n",
    "\n",
    "raw_data = {'Acuracia de Treino': acc_modelTrain, 'Acuracia de Validacao': acc_modelVal,\n",
    "                'Recall': recall_model, 'F1 Score': f1_score_model, 'Precision': precision_model}\n",
    "    \n",
    "df = pd.DataFrame(raw_data, columns = [\"Acuracia de Treino\",\n",
    "                    \"Acuracia de Validacao\", \"Recall\", \"F1 Score\", \"Precision\"], index=kernels) \n",
    "display(df)"
   ]
  },
  {
   "cell_type": "markdown",
   "metadata": {},
   "source": [
    "Para o support vector machine (SVM) foram avaliados os 4 tipos de kernels: linear, sigmoid, polinomial e rbf. A função dos kernels para a SVM é possibilitar que o modelo, que é um classificador linear, consiga resolver problemas não linearizáveis, fazendo uma mudança de representação do dado com mudança de dimensionalidade. A função de kernel linear não faz nenhuma mudança de representação no dado, e é utilizada quando o dado original é facilmente separável pela SVM.\n",
    "\n",
    "Como pode ser visto na tabela acima, o kernel linear apresentou melhor performance em validação tendo uma distância, em relação a acurácia de treino, muito pequena o que indica que o modelo não \"overfitou\". Assim, o modelo escolhido como o melhor será o que contém o kernel linear. Na célula abaixo as métricas do melhor modelo são salvas."
   ]
  },
  {
   "cell_type": "code",
   "execution_count": 18,
   "metadata": {},
   "outputs": [],
   "source": [
    "trainAcc, valAcc, recall, f1, precision, predictions = svm(\"linear\")\n",
    "bestModel(trainAcc, valAcc, recall, f1, precision, predictions)"
   ]
  },
  {
   "cell_type": "markdown",
   "metadata": {},
   "source": [
    "## k-NN"
   ]
  },
  {
   "cell_type": "code",
   "execution_count": 19,
   "metadata": {},
   "outputs": [],
   "source": [
    "def knn(k):\n",
    "    train_score = []\n",
    "    val_score = []\n",
    "    y_probab = []\n",
    "    f1_score = []\n",
    "    recall_score = []\n",
    "    precision_score = []\n",
    "        \n",
    "    for train, val in kf.split(X, y):\n",
    "            \n",
    "        classifier = neighbors.KNeighborsClassifier(n_neighbors=k)\n",
    "        classifier = classifier.fit(X[train], y[train])\n",
    "\n",
    "        train_score.append(classifier.score(X[train], y[train]))\n",
    "        val_score.append(classifier.score(X[val], y[val]))\n",
    "\n",
    "        y_pred = classifier.predict(X[val])\n",
    "        y_proba = (classifier.predict_proba(X[val]))\n",
    "        y_probab.extend(y_proba[:,1])\n",
    "        f1_score.append(metrics.f1_score(y[val], y_pred))\n",
    "        recall_score.append(metrics.recall_score(y[val], y_pred))\n",
    "        precision_score.append(metrics.precision_score(y[val], y_pred))\n",
    "\n",
    "    trainAcc = np.mean(train_score)\n",
    "    valAcc = np.mean(val_score)\n",
    "    recall = np.mean(recall_score)\n",
    "    f1 = np.mean(f1_score)\n",
    "    precision = np.mean(precision_score)\n",
    "        \n",
    "    return trainAcc, valAcc, recall, f1, precision, y_probab"
   ]
  },
  {
   "cell_type": "code",
   "execution_count": 20,
   "metadata": {},
   "outputs": [
    {
     "data": {
      "image/png": "[encoded data removed]",
      "text/plain": [
       "<Figure size 576x360 with 1 Axes>"
      ]
     },
     "metadata": {
      "needs_background": "light"
     },
     "output_type": "display_data"
    }
   ],
   "source": [
    "acc_modelTrain = []\n",
    "acc_modelVal = []\n",
    "n_neighbors = list(range(1,21,2)) #Valores do número de vizinhos a ser variado\n",
    "for i in n_neighbors:\n",
    "    trainAcc, valAcc ,_,_,_,_ = knn(i)    \n",
    "    acc_modelTrain.append(trainAcc)\n",
    "    acc_modelVal.append(valAcc)\n",
    "plot_curva(n_neighbors, acc_modelTrain, acc_modelVal, \"number of neighbors\", \"accuracy\")\n"
   ]
  },
  {
   "cell_type": "markdown",
   "metadata": {},
   "source": [
    "Para a k-NN vários modelos foram treinados com números de vizinhos diferentes, variando entre 1 e 21 (2 a 2). Tal hiperparâmetro determina o número de vizinhos que terão o seu label consultado para tomar uma decisão sobre a classe um cada um dos pontos. Por exemplo, se o número de vizinhos for igual a 10, dado um ponto a se classificar, o modelo irá avaliar a média das classes dos 10 vizinhos mais próximos deste ponto a fim de tomar uma decisão.\n",
    "\n",
    "Como pode ser observado no gráfico acima, o melhor valor para o número de vizinhos é 5, pois é neste ponto em que observamos uma maior acurácia na validação e uma maior proximidade entre as curvas de erro esperado e empírico. A partir deste ponto o modelo começa a perder a capacidade de generalização.\n",
    "\n",
    "Na célula abaixo as métricas do melhor modelo são salvas e há o print da acurácia de treino e validação para este modelo:\n"
   ]
  },
  {
   "cell_type": "code",
   "execution_count": 21,
   "metadata": {},
   "outputs": [
    {
     "name": "stdout",
     "output_type": "stream",
     "text": [
      "Acuracia de treino do melhor modelo: 0.924\n",
      "Acuracia de validação do melhor modelo: 0.88\n"
     ]
    }
   ],
   "source": [
    "trainAcc, valAcc, recall, f1, precision, predictions = knn(5)\n",
    "bestModel(trainAcc, valAcc, recall, f1, precision, predictions)\n",
    "print(\"Acuracia de treino do melhor modelo: {:.3}\".format(trainAcc))\n",
    "print(\"Acuracia de validação do melhor modelo: {:.3}\".format(valAcc))"
   ]
  },
  {
   "cell_type": "markdown",
   "metadata": {},
   "source": [
    "## Random Forest"
   ]
  },
  {
   "cell_type": "code",
   "execution_count": 22,
   "metadata": {},
   "outputs": [],
   "source": [
    "def random_forest(N):\n",
    "    train_score = []\n",
    "    val_score = []\n",
    "    y_probab = []\n",
    "    f1_score = []\n",
    "    recall_score = []\n",
    "    precision_score = []\n",
    "        \n",
    "    for train, val in kf.split(X, y):\n",
    "\n",
    "        classifier = ensemble.RandomForestClassifier(n_estimators=N)\n",
    "        classifier = classifier.fit(X[train], y[train])\n",
    "\n",
    "        train_score.append(classifier.score(X[train], y[train]))\n",
    "        val_score.append(classifier.score(X[val], y[val]))\n",
    "\n",
    "        y_pred = classifier.predict(X[val])\n",
    "        y_proba = (classifier.predict_proba(X[val]))\n",
    "        y_probab.extend(y_proba[:,1])\n",
    "        f1_score.append(metrics.f1_score(y[val], y_pred))\n",
    "        recall_score.append(metrics.recall_score(y[val], y_pred))\n",
    "        precision_score.append(metrics.precision_score(y[val], y_pred))\n",
    "\n",
    "    trainAcc = np.mean(train_score)\n",
    "    valAcc = np.mean(val_score)\n",
    "    recall = np.mean(recall_score)\n",
    "    f1 = np.mean(f1_score)\n",
    "    precision = np.mean(precision_score)\n",
    "\n",
    "    return trainAcc, valAcc, recall, f1, precision, y_probab"
   ]
  },
  {
   "cell_type": "code",
   "execution_count": 23,
   "metadata": {},
   "outputs": [
    {
     "data": {
      "image/png": "[encoded data removed]",
      "text/plain": [
       "<Figure size 576x360 with 1 Axes>"
      ]
     },
     "metadata": {
      "needs_background": "light"
     },
     "output_type": "display_data"
    }
   ],
   "source": [
    "acc_modelTrain = []\n",
    "acc_modelVal = []\n",
    "n_trees = list(range(1,31,2)) #Valores do número de árvores a ser variado\n",
    "for i in n_trees:\n",
    "    trainAcc, valAcc ,_,_,_,_ = random_forest(i)    \n",
    "    acc_modelTrain.append(trainAcc)\n",
    "    acc_modelVal.append(valAcc)\n",
    "plot_curva(n_trees, acc_modelTrain, acc_modelVal, \"number of trees\", \"accuracy\")"
   ]
  },
  {
   "cell_type": "markdown",
   "metadata": {},
   "source": [
    "Para o Random Forest vários modelos foram treinados com o número de árvores variando entre 1 e 31 (2 a 2). Neste modelo é feito um ensemble de várias árvores de decisão, assim esse hiperparâmetro irá limitar o número de árvores que serão geradas durante o treino. Este tipo de classificador tenta atacar os erros que ocorrem devido a variância, utilizando a ideia de bagging o dado não será memorizado pois estamos sempre trabalhando com uma amostra do dado. Isso produz um modelo mais robusto a variãncias nos dados de teste, ou seja mais robusto a overfitting. No gráfico acima aparentemente há uma distância grande entre as curvas, mas isso é devido a escala do gráfico e ao fato de que a acurácia inicial do Random Forest já é alta.\n",
    "\n",
    "Como pode ser observado no gráfico o melhor hiperparâmetro para o modelo, neste experimento, é o de 25 árvores, pois após este número existe um afastamento significativo entre as duas curvas, no qual a acurácia de treino continua crescendo lentamente e a acurácia de validação cai bastante, ou seja, ocorre overfitting.\n",
    "\n",
    "Na célula abaixo as métricas do melhor modelo são salvas e há o print da acurácia de treino e validação para este modelo:"
   ]
  },
  {
   "cell_type": "code",
   "execution_count": 24,
   "metadata": {},
   "outputs": [
    {
     "name": "stdout",
     "output_type": "stream",
     "text": [
      "Acuracia de treino do melhor modelo: 1.0\n",
      "Acuracia de validação do melhor modelo: 0.959\n"
     ]
    }
   ],
   "source": [
    "trainAcc, valAcc, recall, f1, precision, predictions = random_forest(25)\n",
    "bestModel(trainAcc, valAcc, recall, f1, precision, predictions)\n",
    "print(\"Acuracia de treino do melhor modelo: {:.3}\".format(trainAcc))\n",
    "print(\"Acuracia de validação do melhor modelo: {:.3}\".format(valAcc))"
   ]
  },
  {
   "cell_type": "markdown",
   "metadata": {},
   "source": [
    "## Gradient Tree Boosting"
   ]
  },
  {
   "cell_type": "code",
   "execution_count": 25,
   "metadata": {},
   "outputs": [],
   "source": [
    "def gradient_boosting(N):\n",
    "    train_score = []\n",
    "    val_score = []\n",
    "    y_probab = []\n",
    "    f1_score = []\n",
    "    recall_score = []\n",
    "    precision_score = []\n",
    "        \n",
    "    for train, val in kf.split(X, y):\n",
    "            \n",
    "        classifier = ensemble.GradientBoostingClassifier(n_estimators=N)\n",
    "        classifier = classifier.fit(X[train], y[train])\n",
    "\n",
    "        train_score.append(classifier.score(X[train], y[train]))\n",
    "        val_score.append(classifier.score(X[val], y[val]))\n",
    "\n",
    "        y_pred = classifier.predict(X[val])\n",
    "        y_proba = (classifier.predict_proba(X[val]))\n",
    "        y_probab.extend(y_proba[:,1])\n",
    "        f1_score.append(metrics.f1_score(y[val], y_pred))\n",
    "        recall_score.append(metrics.recall_score(y[val], y_pred))\n",
    "        precision_score.append(metrics.precision_score(y[val], y_pred))\n",
    "\n",
    "    trainAcc = np.mean(train_score)\n",
    "    valAcc = np.mean(val_score)\n",
    "    recall = np.mean(recall_score)\n",
    "    f1 = np.mean(f1_score)\n",
    "    precision = np.mean(precision_score)\n",
    "\n",
    "    return trainAcc, valAcc, recall, f1, precision, y_probab\n"
   ]
  },
  {
   "cell_type": "code",
   "execution_count": 26,
   "metadata": {},
   "outputs": [
    {
     "data": {
      "image/png": "[encoded data removed]",
      "text/plain": [
       "<Figure size 576x360 with 1 Axes>"
      ]
     },
     "metadata": {
      "needs_background": "light"
     },
     "output_type": "display_data"
    }
   ],
   "source": [
    "import warnings\n",
    "warnings.filterwarnings(\"ignore\") #ignore deprecated warnings\n",
    "\n",
    "acc_modelTrain = []\n",
    "acc_modelVal = []\n",
    "n_iter = list(range(1,31,2)) #Valores do número de estimadores a ser variado\n",
    "for i in n_iter:\n",
    "    trainAcc, valAcc ,_,_,_,_ = gradient_boosting(i)    \n",
    "    acc_modelTrain.append(trainAcc)\n",
    "    acc_modelVal.append(valAcc)\n",
    "plot_curva(n_iter, acc_modelTrain, acc_modelVal, \"number of estimators\", \"accuracy\")"
   ]
  },
  {
   "cell_type": "markdown",
   "metadata": {},
   "source": [
    "Para o gradient tree boosting o hiperparâmetro variado foi o n_estimators, sendo variado de 1 a 31 (2 a 2). Esse hiperparâmetro controla o número de etapas que serão efetivadas no modelo. Este tipo de classificador é construido a partir da junção de modelos mais simples, atacando os erros devido ao viés, pois a cada iteração mudamos o viés do modelo para atacar os erros dos modelos anteriores. Assim, construimos um classificador mais robusto ao overfitting justamnete pelo uso de classificadores fracos, isso pode ser observado no gráfico acima, pois tem-se uma proximidade muito grande entre as duas curvas. A performance desse modelo tende a melhorar cada vez mais devido ao fato de que ele demora mais outros para overfitar. \n",
    "\n",
    "Devido a forma que é configurado, a complexidade do modelo não aumenta, assim devemos selecionar o melhor modelo dado a melhor acurácia sem nos importar com a complexidade. Assim, temos que para o gradient tree boosting o melhor modelo será o que foi testado com maior número de estimadores. Isso pode ser observado no gráfico acima, pois ambas as curvas de acurácia tendem a subir, e em nenhum momento observamos o aumento da acurácia de treino em conjunto com a diminuição da acurácia de validação (o que configuraria um overfitting), assim o melhor modelo será o com 31 estimadores, que é o maior valor testado. \n",
    "\n",
    "\n",
    "Na célula abaixo as métricas do melhor modelo são salvas e há o print da acurácia de treino e validação para este modelo:"
   ]
  },
  {
   "cell_type": "code",
   "execution_count": 27,
   "metadata": {},
   "outputs": [
    {
     "name": "stdout",
     "output_type": "stream",
     "text": [
      "Acuracia de treino do melhor modelo: 0.972\n",
      "Acuracia de validação do melhor modelo: 0.952\n"
     ]
    }
   ],
   "source": [
    "trainAcc, valAcc, recall, f1, precision, predictions = gradient_boosting(31)\n",
    "bestModel(trainAcc, valAcc, recall, f1, precision, predictions)\n",
    "print(\"Acuracia de treino do melhor modelo: {:.3}\".format(trainAcc))\n",
    "print(\"Acuracia de validação do melhor modelo: {:.3}\".format(valAcc))"
   ]
  },
  {
   "cell_type": "markdown",
   "metadata": {},
   "source": [
    "# Comparação entre os melhores modelos de cada classificador\n",
    "\n",
    "Na tabela abaixo observamos que os melhores dos melhores modelos, que possuem uma acurácia de validação melhor, assim como maior precisão são o Random Forest e o Gradient Tree Boosting, que são modelos de ensemble learning possuindo tratamento especial para evitar overfitting. \n",
    "\n",
    "A F1 score pode ser interpretada como uma medida de confiabilidade da acurácia, uma vez que seu valor é alto sabemos que a acurácia obtida foi relevante, assim podemos observar que os maiores F1 foram também nestes dois modelos. \n",
    "\n",
    "#### Resumo para cada modelo:\n",
    "\n",
    "_Naive Bayes:_ Por ser um modelo mais simples sua precisão tende a ser mais baixa que a dos outros, e devido a simplicidade do problema em questão conseguimos encontrar bons resultados com este modelo. Note que ele obteve melhores resultados do que o k-NN.\n",
    "\n",
    "_Decision Tree:_ É um modelo mais robusto do que o Naive Bayes, mas ainda assim simples, por isso apresenta melhora na acurácia e precisão.\n",
    "\n",
    "_SVM:_ É um dos modelos mais complexos, e apresentou um dos maiores Recall dentre os modelos avaliados, perdendo apenas para os modelos de ensemble.\n",
    "\n",
    "_k-NN:_ Este modelo não superou o baseline (Naive Bayes). Obteve o maior recall dentre todos os modelos, porém a mais baixa precisão. \n",
    "\n",
    "_Random Forest:_ É mais robusto que o Decision Tree, sendo um aprimoramento do mesmo com o uso de várias decision trees. Dessa forma, quando comparados observamos que ambos têm uma acurácia relativamente próxima. Em relação ao recall, observamos que é o menor dentre todos os modelos, devido ao fato de ser mais generalista por causa do uso do bagging.\n",
    "\n",
    "_Gradient Tree Boosting:_ É um modelo que generaliza mais que os demais modelos avaliados, pelo fato de se basear no boosting, dessa forma obteve o segundo menor recall e uma das melhores acurácias."
   ]
  },
  {
   "cell_type": "code",
   "execution_count": 28,
   "metadata": {},
   "outputs": [
    {
     "data": {
      "text/html": [
       "<div>\n",
       "<style scoped>\n",
       "    .dataframe tbody tr th:only-of-type {\n",
       "        vertical-align: middle;\n",
       "    }\n",
       "\n",
       "    .dataframe tbody tr th {\n",
       "        vertical-align: top;\n",
       "    }\n",
       "\n",
       "    .dataframe thead th {\n",
       "        text-align: right;\n",
       "    }\n",
       "</style>\n",
       "<table border=\"1\" class=\"dataframe\">\n",
       "  <thead>\n",
       "    <tr style=\"text-align: right;\">\n",
       "      <th></th>\n",
       "      <th>Acurácia de Treino</th>\n",
       "      <th>Acurácia de Validação</th>\n",
       "      <th>Recall</th>\n",
       "      <th>F1 Score</th>\n",
       "      <th>Precision</th>\n",
       "    </tr>\n",
       "  </thead>\n",
       "  <tbody>\n",
       "    <tr>\n",
       "      <th>Naive Bayes</th>\n",
       "      <td>0.924115</td>\n",
       "      <td>0.923290</td>\n",
       "      <td>0.863315</td>\n",
       "      <td>0.718747</td>\n",
       "      <td>0.680884</td>\n",
       "    </tr>\n",
       "    <tr>\n",
       "      <th>Decision tree</th>\n",
       "      <td>0.966023</td>\n",
       "      <td>0.941561</td>\n",
       "      <td>0.948607</td>\n",
       "      <td>0.745252</td>\n",
       "      <td>0.728740</td>\n",
       "    </tr>\n",
       "    <tr>\n",
       "      <th>SVM</th>\n",
       "      <td>0.955306</td>\n",
       "      <td>0.940406</td>\n",
       "      <td>0.946716</td>\n",
       "      <td>0.746809</td>\n",
       "      <td>0.734573</td>\n",
       "    </tr>\n",
       "    <tr>\n",
       "      <th>k-NN</th>\n",
       "      <td>0.923732</td>\n",
       "      <td>0.880416</td>\n",
       "      <td>0.952823</td>\n",
       "      <td>0.682156</td>\n",
       "      <td>0.634203</td>\n",
       "    </tr>\n",
       "    <tr>\n",
       "      <th>Random Forest</th>\n",
       "      <td>0.999664</td>\n",
       "      <td>0.958865</td>\n",
       "      <td>0.843645</td>\n",
       "      <td>0.762878</td>\n",
       "      <td>0.761889</td>\n",
       "    </tr>\n",
       "    <tr>\n",
       "      <th>Gradient Tree Boosting</th>\n",
       "      <td>0.972462</td>\n",
       "      <td>0.951751</td>\n",
       "      <td>0.850867</td>\n",
       "      <td>0.754997</td>\n",
       "      <td>0.748736</td>\n",
       "    </tr>\n",
       "  </tbody>\n",
       "</table>\n",
       "</div>"
      ],
      "text/plain": [
       "                        Acurácia de Treino  Acurácia de Validação    Recall  \\\n",
       "Naive Bayes                       0.924115               0.923290  0.863315   \n",
       "Decision tree                     0.966023               0.941561  0.948607   \n",
       "SVM                               0.955306               0.940406  0.946716   \n",
       "k-NN                              0.923732               0.880416  0.952823   \n",
       "Random Forest                     0.999664               0.958865  0.843645   \n",
       "Gradient Tree Boosting            0.972462               0.951751  0.850867   \n",
       "\n",
       "                        F1 Score  Precision  \n",
       "Naive Bayes             0.718747   0.680884  \n",
       "Decision tree           0.745252   0.728740  \n",
       "SVM                     0.746809   0.734573  \n",
       "k-NN                    0.682156   0.634203  \n",
       "Random Forest           0.762878   0.761889  \n",
       "Gradient Tree Boosting  0.754997   0.748736  "
      ]
     },
     "metadata": {},
     "output_type": "display_data"
    }
   ],
   "source": [
    "raw_data = {'Acurácia de Treino' : bestModelsTrainAcc, 'Acurácia de Validação': bestModelsValAcc,\n",
    "            'Recall': bestModelsRecall, 'F1 Score': bestModelsF1Score, 'Precision': bestModelsPrecision}\n",
    "    \n",
    "df = pd.DataFrame(raw_data, columns = [\"Acurácia de Treino\",\"Acurácia de Validação\",\"Recall\", \"F1 Score\", \n",
    "                                       \"Precision\"], index = models)\n",
    "display(df)"
   ]
  },
  {
   "cell_type": "markdown",
   "metadata": {},
   "source": [
    "## Curva ROC"
   ]
  },
  {
   "cell_type": "markdown",
   "metadata": {},
   "source": [
    "Para diferentes thresholds para a classe positiva, a curva ROC irá mostrar a taxa de verdadeiros positivos pela taxa de falsos positivos. E a área debaixo da curva encontrada expressa a capacidade do modelo de descriminar as classes.\n",
    "\n",
    "Nas células abaixo temos a curva ROC para cada um dos melhores modelos, com a respectiva AUC:"
   ]
  },
  {
   "cell_type": "code",
   "execution_count": 29,
   "metadata": {},
   "outputs": [],
   "source": [
    "bestModelsAUC = np.zeros(6)\n",
    "def roc():\n",
    "    i = 0\n",
    "    for name, pred in zip(models, bestModelsPred):\n",
    "        fpr, tpr, thresholds = metrics.roc_curve(y, pred)\n",
    "        auc = np.trapz(tpr, fpr)\n",
    "        bestModelsAUC[i] = auc\n",
    "        plt.figure(figsize=(7, 5))\n",
    "        lw = 2\n",
    "        plt.plot(fpr, tpr, color='royalblue',lw=2)\n",
    "        plt.plot([0, 1], [0, 1], color='Black', lw=2, ls='--')\n",
    "        plt.xlim([0.0, 1.0])\n",
    "        plt.ylim([0.0, 1.05])\n",
    "        plt.xlabel('False Positive Rate')\n",
    "        plt.ylabel('True Positive Rate')\n",
    "        plt.title('Curva ROC ('+name+')  -  AUC: '+str(auc))\n",
    "        plt.show()\n",
    "        i+=1"
   ]
  },
  {
   "cell_type": "code",
   "execution_count": 30,
   "metadata": {
    "scrolled": false
   },
   "outputs": [
    {
     "data": {
      "image/png": "[encoded data removed]",
      "text/plain": [
       "<Figure size 504x360 with 1 Axes>"
      ]
     },
     "metadata": {
      "needs_background": "light"
     },
     "output_type": "display_data"
    },
    {
     "data": {
      "image/png": "[encoded data removed]",
      "text/plain": [
       "<Figure size 504x360 with 1 Axes>"
      ]
     },
     "metadata": {
      "needs_background": "light"
     },
     "output_type": "display_data"
    },
    {
     "data": {
      "image/png": "[encoded data removed]",
      "text/plain": [
       "<Figure size 504x360 with 1 Axes>"
      ]
     },
     "metadata": {
      "needs_background": "light"
     },
     "output_type": "display_data"
    },
    {
     "data": {
      "image/png": "[encoded data removed]",
      "text/plain": [
       "<Figure size 504x360 with 1 Axes>"
      ]
     },
     "metadata": {
      "needs_background": "light"
     },
     "output_type": "display_data"
    },
    {
     "data": {
      "image/png": "[encoded data removed]",
      "text/plain": [
       "<Figure size 504x360 with 1 Axes>"
      ]
     },
     "metadata": {
      "needs_background": "light"
     },
     "output_type": "display_data"
    },
    {
     "data": {
      "image/png": "[encoded data removed]",
      "text/plain": [
       "<Figure size 504x360 with 1 Axes>"
      ]
     },
     "metadata": {
      "needs_background": "light"
     },
     "output_type": "display_data"
    }
   ],
   "source": [
    "roc()"
   ]
  },
  {
   "cell_type": "markdown",
   "metadata": {},
   "source": [
    "Nas curvas acima observamos, novamente, que os melhores modelos para este dado são realmente o Random Forest e o Gradient Tree Boosting, devido ao fato de que são baseados em emsemble learning, e possuem um tratamento especial para com os erros de viés e variância, já explicado anteriormente."
   ]
  },
  {
   "cell_type": "markdown",
   "metadata": {},
   "source": [
    "### AUC"
   ]
  },
  {
   "cell_type": "code",
   "execution_count": 31,
   "metadata": {},
   "outputs": [
    {
     "data": {
      "text/html": [
       "<div>\n",
       "<style scoped>\n",
       "    .dataframe tbody tr th:only-of-type {\n",
       "        vertical-align: middle;\n",
       "    }\n",
       "\n",
       "    .dataframe tbody tr th {\n",
       "        vertical-align: top;\n",
       "    }\n",
       "\n",
       "    .dataframe thead th {\n",
       "        text-align: right;\n",
       "    }\n",
       "</style>\n",
       "<table border=\"1\" class=\"dataframe\">\n",
       "  <thead>\n",
       "    <tr style=\"text-align: right;\">\n",
       "      <th></th>\n",
       "      <th>Area Under ROC Curve</th>\n",
       "    </tr>\n",
       "  </thead>\n",
       "  <tbody>\n",
       "    <tr>\n",
       "      <th>Naive Bayes</th>\n",
       "      <td>0.968950</td>\n",
       "    </tr>\n",
       "    <tr>\n",
       "      <th>Decision tree</th>\n",
       "      <td>0.964283</td>\n",
       "    </tr>\n",
       "    <tr>\n",
       "      <th>SVM</th>\n",
       "      <td>0.983726</td>\n",
       "    </tr>\n",
       "    <tr>\n",
       "      <th>k-NN</th>\n",
       "      <td>0.938890</td>\n",
       "    </tr>\n",
       "    <tr>\n",
       "      <th>Random Forest</th>\n",
       "      <td>0.990672</td>\n",
       "    </tr>\n",
       "    <tr>\n",
       "      <th>Gradient Tree Boosting</th>\n",
       "      <td>0.987212</td>\n",
       "    </tr>\n",
       "  </tbody>\n",
       "</table>\n",
       "</div>"
      ],
      "text/plain": [
       "                        Area Under ROC Curve\n",
       "Naive Bayes                         0.968950\n",
       "Decision tree                       0.964283\n",
       "SVM                                 0.983726\n",
       "k-NN                                0.938890\n",
       "Random Forest                       0.990672\n",
       "Gradient Tree Boosting              0.987212"
      ]
     },
     "metadata": {},
     "output_type": "display_data"
    }
   ],
   "source": [
    "raw_data = {'Area Under ROC Curve' : bestModelsAUC}\n",
    "    \n",
    "df = pd.DataFrame(raw_data, columns = [\"Area Under ROC Curve\"], index = models)\n",
    "display(df)"
   ]
  }
 ],
 "metadata": {
  "kernelspec": {
   "display_name": "Python 3",
   "language": "python",
   "name": "python3"
  },
  "language_info": {
   "codemirror_mode": {
    "name": "ipython",
    "version": 3
   },
   "file_extension": ".py",
   "mimetype": "text/x-python",
   "name": "python",
   "nbconvert_exporter": "python",
   "pygments_lexer": "ipython3",
   "version": "3.7.1"
  }
 },
 "nbformat": 4,
 "nbformat_minor": 2
}
